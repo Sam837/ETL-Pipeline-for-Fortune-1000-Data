{
 "cells": [
  {
   "cell_type": "markdown",
   "metadata": {},
   "source": [
    "ETL Pipeline for Fortune 1000 Data\n",
    "==="
   ]
  },
  {
   "cell_type": "markdown",
   "metadata": {},
   "source": [
    "## Introduction"
   ]
  },
  {
   "cell_type": "code",
   "execution_count": null,
   "metadata": {},
   "outputs": [
    {
     "data": {
      "text/plain": [
       "'\\n=================================================\\nMilestone 3\\n\\nNama  : Sam\\nBatch : BSD-10\\n\\nThis program will load the dataset and perform data exploration and quality check for the raw Fortune 1000 dataset (P2M3_Sam_data_raw.csv)\\n=================================================\\n'"
      ]
     },
     "execution_count": 1,
     "metadata": {},
     "output_type": "execute_result"
    }
   ],
   "source": [
    "'''\n",
    "=================================================\n",
    "ETL Pipeline for Fortune 1000 Data\n",
    "Owner: Sam\n",
    "\n",
    "This program will load the dataset and perform data exploration and quality check for the raw Fortune 1000 dataset (P2M3_Sam_data_raw.csv)\n",
    "=================================================\n",
    "'''"
   ]
  },
  {
   "cell_type": "markdown",
   "metadata": {},
   "source": [
    "## Library"
   ]
  },
  {
   "cell_type": "code",
   "execution_count": 2,
   "metadata": {},
   "outputs": [],
   "source": [
    "import pandas as pd"
   ]
  },
  {
   "cell_type": "markdown",
   "metadata": {},
   "source": [
    "## Data Loading"
   ]
  },
  {
   "cell_type": "code",
   "execution_count": 3,
   "metadata": {},
   "outputs": [
    {
     "name": "stdout",
     "output_type": "stream",
     "text": [
      "<class 'pandas.core.frame.DataFrame'>\n",
      "RangeIndex: 1000 entries, 0 to 999\n",
      "Data columns (total 18 columns):\n",
      " #   Column             Non-Null Count  Dtype  \n",
      "---  ------             --------------  -----  \n",
      " 0   company            1000 non-null   object \n",
      " 1   rank               1000 non-null   int64  \n",
      " 2   rank_change        1000 non-null   float64\n",
      " 3   revenue            1000 non-null   float64\n",
      " 4   profit             997 non-null    float64\n",
      " 5   num. of employees  999 non-null    float64\n",
      " 6   sector             1000 non-null   object \n",
      " 7   city               1000 non-null   object \n",
      " 8   state              1000 non-null   object \n",
      " 9   newcomer           1000 non-null   object \n",
      " 10  ceo_founder        1000 non-null   object \n",
      " 11  ceo_woman          1000 non-null   object \n",
      " 12  profitable         1000 non-null   object \n",
      " 13  prev_rank          1000 non-null   object \n",
      " 14  CEO                1000 non-null   object \n",
      " 15  Website            1000 non-null   object \n",
      " 16  Ticker             951 non-null    object \n",
      " 17  Market Cap         969 non-null    object \n",
      "dtypes: float64(4), int64(1), object(13)\n",
      "memory usage: 140.8+ KB\n"
     ]
    },
    {
     "data": {
      "text/html": [
       "<div>\n",
       "<style scoped>\n",
       "    .dataframe tbody tr th:only-of-type {\n",
       "        vertical-align: middle;\n",
       "    }\n",
       "\n",
       "    .dataframe tbody tr th {\n",
       "        vertical-align: top;\n",
       "    }\n",
       "\n",
       "    .dataframe thead th {\n",
       "        text-align: right;\n",
       "    }\n",
       "</style>\n",
       "<table border=\"1\" class=\"dataframe\">\n",
       "  <thead>\n",
       "    <tr style=\"text-align: right;\">\n",
       "      <th></th>\n",
       "      <th>company</th>\n",
       "      <th>rank</th>\n",
       "      <th>rank_change</th>\n",
       "      <th>revenue</th>\n",
       "      <th>profit</th>\n",
       "      <th>num. of employees</th>\n",
       "      <th>sector</th>\n",
       "      <th>city</th>\n",
       "      <th>state</th>\n",
       "      <th>newcomer</th>\n",
       "      <th>ceo_founder</th>\n",
       "      <th>ceo_woman</th>\n",
       "      <th>profitable</th>\n",
       "      <th>prev_rank</th>\n",
       "      <th>CEO</th>\n",
       "      <th>Website</th>\n",
       "      <th>Ticker</th>\n",
       "      <th>Market Cap</th>\n",
       "    </tr>\n",
       "  </thead>\n",
       "  <tbody>\n",
       "    <tr>\n",
       "      <th>0</th>\n",
       "      <td>Walmart</td>\n",
       "      <td>1</td>\n",
       "      <td>0.0</td>\n",
       "      <td>572754.0</td>\n",
       "      <td>13673.0</td>\n",
       "      <td>2300000.0</td>\n",
       "      <td>Retailing</td>\n",
       "      <td>Bentonville</td>\n",
       "      <td>AR</td>\n",
       "      <td>no</td>\n",
       "      <td>no</td>\n",
       "      <td>no</td>\n",
       "      <td>yes</td>\n",
       "      <td>1.0</td>\n",
       "      <td>C. Douglas McMillon</td>\n",
       "      <td>https://www.stock.walmart.com</td>\n",
       "      <td>WMT</td>\n",
       "      <td>352037</td>\n",
       "    </tr>\n",
       "    <tr>\n",
       "      <th>1</th>\n",
       "      <td>Amazon</td>\n",
       "      <td>2</td>\n",
       "      <td>0.0</td>\n",
       "      <td>469822.0</td>\n",
       "      <td>33364.0</td>\n",
       "      <td>1608000.0</td>\n",
       "      <td>Retailing</td>\n",
       "      <td>Seattle</td>\n",
       "      <td>WA</td>\n",
       "      <td>no</td>\n",
       "      <td>no</td>\n",
       "      <td>no</td>\n",
       "      <td>yes</td>\n",
       "      <td>2.0</td>\n",
       "      <td>Andrew R. Jassy</td>\n",
       "      <td>www.amazon.com</td>\n",
       "      <td>AMZN</td>\n",
       "      <td>1202717</td>\n",
       "    </tr>\n",
       "    <tr>\n",
       "      <th>2</th>\n",
       "      <td>Apple</td>\n",
       "      <td>3</td>\n",
       "      <td>0.0</td>\n",
       "      <td>365817.0</td>\n",
       "      <td>94680.0</td>\n",
       "      <td>154000.0</td>\n",
       "      <td>Technology</td>\n",
       "      <td>Cupertino</td>\n",
       "      <td>CA</td>\n",
       "      <td>no</td>\n",
       "      <td>no</td>\n",
       "      <td>no</td>\n",
       "      <td>yes</td>\n",
       "      <td>3.0</td>\n",
       "      <td>Timothy D. Cook</td>\n",
       "      <td>www.apple.com</td>\n",
       "      <td>AAPL</td>\n",
       "      <td>2443962</td>\n",
       "    </tr>\n",
       "    <tr>\n",
       "      <th>3</th>\n",
       "      <td>CVS Health</td>\n",
       "      <td>4</td>\n",
       "      <td>0.0</td>\n",
       "      <td>292111.0</td>\n",
       "      <td>7910.0</td>\n",
       "      <td>258000.0</td>\n",
       "      <td>Health Care</td>\n",
       "      <td>Woonsocket</td>\n",
       "      <td>RI</td>\n",
       "      <td>no</td>\n",
       "      <td>no</td>\n",
       "      <td>yes</td>\n",
       "      <td>yes</td>\n",
       "      <td>4.0</td>\n",
       "      <td>Karen Lynch</td>\n",
       "      <td>https://www.cvshealth.com</td>\n",
       "      <td>CVS</td>\n",
       "      <td>125204</td>\n",
       "    </tr>\n",
       "    <tr>\n",
       "      <th>4</th>\n",
       "      <td>UnitedHealth Group</td>\n",
       "      <td>5</td>\n",
       "      <td>0.0</td>\n",
       "      <td>287597.0</td>\n",
       "      <td>17285.0</td>\n",
       "      <td>350000.0</td>\n",
       "      <td>Health Care</td>\n",
       "      <td>Minnetonka</td>\n",
       "      <td>MN</td>\n",
       "      <td>no</td>\n",
       "      <td>no</td>\n",
       "      <td>no</td>\n",
       "      <td>yes</td>\n",
       "      <td>5.0</td>\n",
       "      <td>Andrew P. Witty</td>\n",
       "      <td>www.unitedhealthgroup.com</td>\n",
       "      <td>UNH</td>\n",
       "      <td>500468</td>\n",
       "    </tr>\n",
       "  </tbody>\n",
       "</table>\n",
       "</div>"
      ],
      "text/plain": [
       "              company  rank  rank_change   revenue   profit  \\\n",
       "0             Walmart     1          0.0  572754.0  13673.0   \n",
       "1              Amazon     2          0.0  469822.0  33364.0   \n",
       "2               Apple     3          0.0  365817.0  94680.0   \n",
       "3          CVS Health     4          0.0  292111.0   7910.0   \n",
       "4  UnitedHealth Group     5          0.0  287597.0  17285.0   \n",
       "\n",
       "   num. of employees       sector         city state newcomer ceo_founder  \\\n",
       "0          2300000.0    Retailing  Bentonville    AR       no          no   \n",
       "1          1608000.0    Retailing      Seattle    WA       no          no   \n",
       "2           154000.0   Technology    Cupertino    CA       no          no   \n",
       "3           258000.0  Health Care   Woonsocket    RI       no          no   \n",
       "4           350000.0  Health Care   Minnetonka    MN       no          no   \n",
       "\n",
       "  ceo_woman profitable prev_rank                  CEO  \\\n",
       "0        no        yes       1.0  C. Douglas McMillon   \n",
       "1        no        yes       2.0      Andrew R. Jassy   \n",
       "2        no        yes       3.0      Timothy D. Cook   \n",
       "3       yes        yes       4.0          Karen Lynch   \n",
       "4        no        yes       5.0      Andrew P. Witty   \n",
       "\n",
       "                         Website Ticker Market Cap  \n",
       "0  https://www.stock.walmart.com    WMT     352037  \n",
       "1                 www.amazon.com   AMZN    1202717  \n",
       "2                  www.apple.com   AAPL    2443962  \n",
       "3      https://www.cvshealth.com    CVS     125204  \n",
       "4      www.unitedhealthgroup.com    UNH     500468  "
      ]
     },
     "execution_count": 3,
     "metadata": {},
     "output_type": "execute_result"
    }
   ],
   "source": [
    "# display max\n",
    "pd.set_option('display.max_columns', None)\n",
    "pd.set_option('display.max_rows', None)\n",
    "\n",
    "# load data\n",
    "df = pd.read_csv('P2M3_Sam_data_raw.csv')\n",
    "\n",
    "# data info\n",
    "df.info()\n",
    "\n",
    "# show the first 3 rows\n",
    "df.head()"
   ]
  },
  {
   "cell_type": "code",
   "execution_count": 4,
   "metadata": {},
   "outputs": [
    {
     "data": {
      "text/plain": [
       "array(['1.0', '2.0', '3.0', '4.0', '5.0', '10.0', '6.0', '9.0', '7.0',\n",
       "       '8.0', '12.0', '13.0', '11.0', '15.0', '14.0', '27.0', '18.0',\n",
       "       '16.0', '32.0', '23.0', '17.0', '21.0', '20.0', '19.0', '22.0',\n",
       "       '24.0', '34.0', '26.0', '48.0', '53.0', '28.0', '30.0', '25.0',\n",
       "       '35.0', '31.0', '29.0', '36.0', '51.0', '45.0', '41.0', '37.0',\n",
       "       '39.0', '77.0', '33.0', '44.0', '40.0', '43.0', '38.0', '42.0',\n",
       "       '46.0', '55.0', '52.0', '50.0', '81.0', '49.0', '47.0', '59.0',\n",
       "       '57.0', '56.0', '54.0', '61.0', '62.0', '68.0', '82.0', '100.0',\n",
       "       '70.0', '72.0', '66.0', '64.0', '60.0', '65.0', '67.0', '78.0',\n",
       "       '63.0', '97.0', '69.0', '156.0', '71.0', '74.0', '76.0', '73.0',\n",
       "       '75.0', '85.0', '88.0', '83.0', '89.0', '58.0', '127.0', '105.0',\n",
       "       '79.0', '80.0', '95.0', '93.0', '84.0', '103.0', '87.0', '90.0',\n",
       "       '149.0', '92.0', '123.0', '86.0', '96.0', '98.0', '102.0', '94.0',\n",
       "       '91.0', '124.0', '99.0', '117.0', '101.0', '147.0', '114.0',\n",
       "       '178.0', '174.0', '115.0', '109.0', '128.0', '130.0', '104.0',\n",
       "       '125.0', '108.0', '118.0', '106.0', '148.0', '155.0', '122.0',\n",
       "       '135.0', '121.0', '116.0', '203.0', '129.0', '107.0', '333.0',\n",
       "       '184.0', '183.0', '137.0', '111.0', '316.0', '110.0', '112.0',\n",
       "       '145.0', '143.0', '134.0', '164.0', '126.0', '200.0', '133.0',\n",
       "       '132.0', '150.0', '113.0', '159.0', '157.0', '146.0', '191.0',\n",
       "       '119.0', '176.0', '215.0', '231.0', '454.0', '142.0', '131.0',\n",
       "       '154.0', '153.0', '141.0', '138.0', '161.0', '165.0', '160.0',\n",
       "       '171.0', '140.0', ' ', '310.0', '177.0', '136.0', '162.0', '350.0',\n",
       "       '175.0', '120.0', '139.0', '168.0', '167.0', '158.0', '195.0',\n",
       "       '192.0', '186.0', '179.0', '172.0', '251.0', '242.0', '201.0',\n",
       "       '173.0', '170.0', '285.0', '185.0', '319.0', '279.0', '210.0',\n",
       "       '181.0', '245.0', '169.0', '199.0', '202.0', '254.0', '197.0',\n",
       "       '163.0', '152.0', '323.0', '246.0', '281.0', '188.0', '209.0',\n",
       "       '144.0', '212.0', '166.0', '364.0', '182.0', '220.0', '204.0',\n",
       "       '221.0', '198.0', '207.0', '262.0', '351.0', '299.0', '309.0',\n",
       "       '205.0', '213.0', '180.0', '218.0', '354.0', '219.0', '328.0',\n",
       "       '336.0', '234.0', '187.0', '214.0', '288.0', '250.0', '322.0',\n",
       "       '211.0', '208.0', '226.0', '295.0', '289.0', '239.0', '227.0',\n",
       "       '428.0', '238.0', '304.0', '232.0', '240.0', '223.0', '236.0',\n",
       "       '229.0', '206.0', '193.0', '222.0', '196.0', '189.0', '343.0',\n",
       "       '225.0', '277.0', '256.0', '216.0', '303.0', '284.0', '241.0',\n",
       "       '275.0', '293.0', '261.0', '260.0', '286.0', '248.0', '217.0',\n",
       "       '249.0', '253.0', '272.0', '268.0', '361.0', '233.0', '194.0',\n",
       "       '266.0', '258.0', '278.0', '269.0', '247.0', '255.0', '311.0',\n",
       "       '483.0', '190.0', '264.0', '237.0', '291.0', '366.0', '267.0',\n",
       "       '270.0', '292.0', '298.0', '308.0', '276.0', '265.0', '259.0',\n",
       "       '346.0', '368.0', '320.0', '273.0', '290.0', '315.0', '330.0',\n",
       "       '243.0', '235.0', '274.0', '252.0', '230.0', '339.0', '305.0',\n",
       "       '388.0', '300.0', '271.0', '282.0', '302.0', '326.0', '317.0',\n",
       "       '453.0', '297.0', '321.0', '283.0', '307.0', '313.0', '331.0',\n",
       "       '244.0', '301.0', '228.0', '341.0', '424.0', '349.0', '324.0',\n",
       "       '294.0', '442.0', '287.0', '397.0', '379.0', '325.0', '355.0',\n",
       "       '340.0', '369.0', '314.0', '334.0', '387.0', '306.0', '367.0',\n",
       "       '344.0', '338.0', '363.0', '405.0', '345.0', '318.0', '352.0',\n",
       "       '357.0', '380.0', '386.0', '347.0', '362.0', '327.0', '372.0',\n",
       "       '374.0', '360.0', '337.0', '375.0', '401.0', '471.0', '498.0',\n",
       "       '312.0', '263.0', '280.0', '406.0', '409.0', '365.0', '404.0',\n",
       "       '419.0', '370.0', '383.0', '385.0', '408.0', '329.0', '472.0',\n",
       "       '403.0', '373.0', '411.0', '399.0', '458.0', '451.0', '359.0',\n",
       "       '356.0', '477.0', '394.0', '413.0', '335.0', '460.0', '484.0',\n",
       "       '417.0', '398.0', '342.0', '358.0', '400.0', '393.0', '423.0',\n",
       "       '407.0', '425.0', '392.0', '416.0', '395.0', '378.0', '445.0',\n",
       "       '422.0', '441.0', '493.0', '429.0', '348.0', '257.0', '391.0',\n",
       "       '414.0', '384.0', '431.0', '433.0', '466.0', '447.0', '456.0',\n",
       "       '371.0', '495.0', '448.0', '396.0', '464.0', '430.0', '476.0',\n",
       "       '452.0', '376.0', '436.0', '412.0', '438.0', '432.0', '427.0',\n",
       "       '470.0', '481.0', '421.0', '377.0', '446.0', '435.0', '353.0',\n",
       "       '382.0', '410.0', '415.0', '440.0', '381.0', '468.0', '496.0',\n",
       "       '463.0', '439.0', '420.0', '475.0', '418.0', '492.0', '461.0',\n",
       "       '434.0', '478.0', '443.0', '494.0', '488.0', '402.0'], dtype=object)"
      ]
     },
     "execution_count": 4,
     "metadata": {},
     "output_type": "execute_result"
    }
   ],
   "source": [
    "df.prev_rank.unique()"
   ]
  },
  {
   "cell_type": "markdown",
   "metadata": {},
   "source": [
    "## Find duplicates in the data"
   ]
  },
  {
   "cell_type": "code",
   "execution_count": 5,
   "metadata": {},
   "outputs": [
    {
     "name": "stdout",
     "output_type": "stream",
     "text": [
      "Number of duplicates: 0\n"
     ]
    }
   ],
   "source": [
    "# check for duplicates\n",
    "print(f'Number of duplicates: {df.duplicated().sum()}')"
   ]
  },
  {
   "cell_type": "markdown",
   "metadata": {},
   "source": [
    "## Evaluate the missing value"
   ]
  },
  {
   "cell_type": "code",
   "execution_count": 6,
   "metadata": {},
   "outputs": [
    {
     "name": "stdout",
     "output_type": "stream",
     "text": [
      "Number of NaN values per column:\n",
      "company               0\n",
      "rank                  0\n",
      "rank_change           0\n",
      "revenue               0\n",
      "profit                3\n",
      "num. of employees     1\n",
      "sector                0\n",
      "city                  0\n",
      "state                 0\n",
      "newcomer              0\n",
      "ceo_founder           0\n",
      "ceo_woman             0\n",
      "profitable            0\n",
      "prev_rank             0\n",
      "CEO                   0\n",
      "Website               0\n",
      "Ticker               49\n",
      "Market Cap           31\n",
      "dtype: int64\n"
     ]
    }
   ],
   "source": [
    "# check for NaN values in each columns\n",
    "nan_count = df.isnull().sum()\n",
    "\n",
    "print(\"Number of NaN values per column:\")\n",
    "print(nan_count)"
   ]
  }
 ],
 "metadata": {
  "kernelspec": {
   "display_name": "phase_0",
   "language": "python",
   "name": "python3"
  },
  "language_info": {
   "codemirror_mode": {
    "name": "ipython",
    "version": 3
   },
   "file_extension": ".py",
   "mimetype": "text/x-python",
   "name": "python",
   "nbconvert_exporter": "python",
   "pygments_lexer": "ipython3",
   "version": "3.10.16"
  }
 },
 "nbformat": 4,
 "nbformat_minor": 2
}
